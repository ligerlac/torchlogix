{
 "cells": [
  {
   "cell_type": "code",
   "execution_count": null,
   "id": "123f2b37",
   "metadata": {},
   "outputs": [],
   "source": [
    "import numpy as np\n",
    "import torch\n",
    "\n",
    "from neurodifflogic.difflogic.compiled_model import CompiledCombinedLogicNet\n",
    "\n",
    "from neurodifflogic.models import CNN"
   ]
  },
  {
   "cell_type": "code",
   "execution_count": 2,
   "id": "112d9428",
   "metadata": {},
   "outputs": [
    {
     "name": "stdout",
     "output_type": "stream",
     "text": [
      "Found Flatten layer\n",
      "Found GroupSum layer with 10 classes\n",
      "Parsed 3 conv, 3 pooling, 3 linear layers\n",
      "Layer execution order: [('conv', 0), ('pool', 0), ('conv', 1), ('pool', 1), ('conv', 2), ('pool', 2), ('flatten', 0), ('linear', 0), ('linear', 1), ('linear', 2)]\n",
      "Compiling finished in 3.017 seconds.\n"
     ]
    }
   ],
   "source": [
    "model = CNN(class_count=10, tau=1, implementation=\"python\", device=\"cpu\")\n",
    "model.train(False)  # Switch model to eval mode\n",
    "\n",
    "compiled_model = CompiledCombinedLogicNet(\n",
    "    model=model.model, num_bits=8, cpu_compiler=\"gcc\", verbose=True\n",
    ")\n",
    "compiled_model.compile(save_lib_path=\"compiled_clgn_model.so\", verbose=False)\n"
   ]
  },
  {
   "cell_type": "code",
   "execution_count": 3,
   "id": "0e63765f",
   "metadata": {},
   "outputs": [],
   "source": [
    "x = torch.randint(0, 2, (8, 1, 28, 28), dtype=torch.int16)\n",
    "x_np = x.bool().numpy()\n",
    "\n",
    "preds = model(x)\n",
    "preds_compiled = compiled_model(x_np)\n",
    "\n",
    "assert np.allclose(preds.numpy(), preds_compiled, atol=1e-5), \"Compiled model predictions do not match original model predictions\"\n"
   ]
  },
  {
   "cell_type": "code",
   "execution_count": 4,
   "id": "b223d7fe",
   "metadata": {},
   "outputs": [
    {
     "name": "stdout",
     "output_type": "stream",
     "text": [
      "Original model inference time: 0:00:10.176780\n",
      "Compiled model inference time: 0:00:00.002943\n"
     ]
    }
   ],
   "source": [
    "from datetime import datetime\n",
    "\n",
    "x = torch.randint(0, 2, (1_000, 1, 28, 28), dtype=torch.int16)\n",
    "x_np = x.bool().numpy()\n",
    "\n",
    "start_time = datetime.now()\n",
    "preds = model(x)\n",
    "end_time = datetime.now()\n",
    "print(f\"Original model inference time: {end_time - start_time}\")\n",
    "\n",
    "start_time = datetime.now()\n",
    "preds_compiled = compiled_model(x_np)\n",
    "end_time = datetime.now()\n",
    "print(f\"Compiled model inference time: {end_time - start_time}\")\n"
   ]
  },
  {
   "cell_type": "code",
   "execution_count": 6,
   "id": "69805845",
   "metadata": {},
   "outputs": [
    {
     "name": "stdout",
     "output_type": "stream",
     "text": [
      "Compiled model inference time: 0:00:02.755774\n"
     ]
    }
   ],
   "source": [
    "x = torch.randint(0, 2, (1_000_000, 1, 28, 28), dtype=torch.int16)\n",
    "x_np = x.bool().numpy()\n",
    "\n",
    "start_time = datetime.now()\n",
    "preds_compiled = compiled_model(x_np)\n",
    "end_time = datetime.now()\n",
    "print(f\"Compiled model inference time: {end_time - start_time}\")\n"
   ]
  }
 ],
 "metadata": {
  "kernelspec": {
   "display_name": "venv",
   "language": "python",
   "name": "python3"
  },
  "language_info": {
   "codemirror_mode": {
    "name": "ipython",
    "version": 3
   },
   "file_extension": ".py",
   "mimetype": "text/x-python",
   "name": "python",
   "nbconvert_exporter": "python",
   "pygments_lexer": "ipython3",
   "version": "3.12.11"
  }
 },
 "nbformat": 4,
 "nbformat_minor": 5
}
