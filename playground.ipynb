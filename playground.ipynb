{
 "cells": [
  {
   "cell_type": "code",
   "execution_count": 1,
   "id": "123f2b37",
   "metadata": {},
   "outputs": [
    {
     "name": "stderr",
     "output_type": "stream",
     "text": [
      "/afs/hep.wisc.edu/user/ekauffma/venv/lib64/python3.9/site-packages/torchvision/io/image.py:13: UserWarning: Failed to load image Python extension: libc10_cuda.so: cannot open shared object file: No such file or directory\n",
      "  warn(f\"Failed to load image Python extension: {e}\")\n"
     ]
    }
   ],
   "source": [
    "import numpy as np\n",
    "import torch\n",
    "import torchinfo\n",
    "\n",
    "from neurodifflogic.difflogic.compiled_model import CompiledLogicNet\n",
    "from neurodifflogic.models import CNN"
   ]
  },
  {
   "cell_type": "code",
   "execution_count": 2,
   "id": "112d9428",
   "metadata": {},
   "outputs": [
    {
     "name": "stdout",
     "output_type": "stream",
     "text": [
      "==========================================================================================\n",
      "Layer (type:depth-idx)                   Output Shape              Param #\n",
      "==========================================================================================\n",
      "CNN                                      [1, 10]                   --\n",
      "├─Sequential: 1-1                        [1, 10]                   --\n",
      "│    └─LogicConv2d: 2-1                  [1, 16, 24, 24]           3,840\n",
      "│    └─OrPoolingLayer: 2-2               [1, 16, 12, 12]           --\n",
      "│    └─LogicConv2d: 2-3                  [1, 48, 10, 10]           11,520\n",
      "│    └─OrPoolingLayer: 2-4               [1, 48, 6, 6]             --\n",
      "│    └─LogicConv2d: 2-5                  [1, 144, 4, 4]            34,560\n",
      "│    └─OrPoolingLayer: 2-6               [1, 144, 3, 3]            --\n",
      "│    └─Flatten: 2-7                      [1, 1296]                 --\n",
      "│    └─LogicLayer: 2-8                   [1, 20480]                327,680\n",
      "│    └─LogicLayer: 2-9                   [1, 10240]                163,840\n",
      "│    └─LogicLayer: 2-10                  [1, 5120]                 81,920\n",
      "│    └─GroupSum: 2-11                    [1, 10]                   --\n",
      "==========================================================================================\n",
      "Total params: 623,360\n",
      "Trainable params: 623,360\n",
      "Non-trainable params: 0\n",
      "Total mult-adds (M): 0.57\n",
      "==========================================================================================\n",
      "Input size (MB): 0.00\n",
      "Forward/backward pass size (MB): 0.29\n",
      "Params size (MB): 2.29\n",
      "Estimated Total Size (MB): 2.58\n",
      "==========================================================================================\n"
     ]
    }
   ],
   "source": [
    "model = CNN(class_count=10, tau=1, implementation=\"python\", device=\"cpu\")\n",
    "model.train(False)  # Switch model to eval mode\n",
    "\n",
    "print(torchinfo.summary(model, input_size=(1, 1, 28, 28)))"
   ]
  },
  {
   "cell_type": "code",
   "execution_count": 3,
   "id": "2bc34d36",
   "metadata": {},
   "outputs": [
    {
     "name": "stdout",
     "output_type": "stream",
     "text": [
      "Found Flatten layer\n",
      "Found GroupSum layer with 10 classes\n",
      "Parsed 3 conv, 3 pooling, 3 linear layers\n",
      "Layer execution order: [('conv', 0), ('pool', 0), ('conv', 1), ('pool', 1), ('conv', 2), ('pool', 2), ('flatten', 0), ('linear', 0), ('linear', 1), ('linear', 2)]\n",
      "Compiling finished in 30.275 seconds.\n"
     ]
    }
   ],
   "source": [
    "\n",
    "compiled_model = CompiledLogicNet(\n",
    "    model=model.model, num_bits=8, cpu_compiler=\"gcc\", verbose=True\n",
    ")\n",
    "compiled_model.compile(save_lib_path=\"compiled_clgn_model.so\", verbose=False)\n"
   ]
  },
  {
   "cell_type": "code",
   "execution_count": 4,
   "id": "0e63765f",
   "metadata": {},
   "outputs": [],
   "source": [
    "x = torch.randint(0, 2, (8, 1, 28, 28), dtype=torch.int16)\n",
    "x_np = x.bool().numpy()\n",
    "\n",
    "preds = model(x)\n",
    "preds_compiled = compiled_model(x_np)\n",
    "\n",
    "assert np.allclose(preds.numpy(), preds_compiled, atol=1e-5), \"Compiled model predictions do not match original model predictions\"\n"
   ]
  },
  {
   "cell_type": "code",
   "execution_count": 5,
   "id": "b223d7fe",
   "metadata": {},
   "outputs": [
    {
     "name": "stdout",
     "output_type": "stream",
     "text": [
      "Original model inference time: 0:00:15.035126\n",
      "Compiled model inference time: 0:00:00.008955\n"
     ]
    }
   ],
   "source": [
    "from datetime import datetime\n",
    "\n",
    "x = torch.randint(0, 2, (1_000, 1, 28, 28), dtype=torch.int16)\n",
    "x_np = x.bool().numpy()\n",
    "\n",
    "start_time = datetime.now()\n",
    "preds = model(x)\n",
    "end_time = datetime.now()\n",
    "print(f\"Original model inference time: {end_time - start_time}\")\n",
    "\n",
    "start_time = datetime.now()\n",
    "preds_compiled = compiled_model(x_np)\n",
    "end_time = datetime.now()\n",
    "print(f\"Compiled model inference time: {end_time - start_time}\")\n"
   ]
  },
  {
   "cell_type": "code",
   "execution_count": 6,
   "id": "69805845",
   "metadata": {},
   "outputs": [
    {
     "name": "stdout",
     "output_type": "stream",
     "text": [
      "Compiled model inference time: 0:00:09.226433\n"
     ]
    }
   ],
   "source": [
    "x = torch.randint(0, 2, (1_000_000, 1, 28, 28), dtype=torch.int16)\n",
    "x_np = x.bool().numpy()\n",
    "\n",
    "start_time = datetime.now()\n",
    "preds_compiled = compiled_model(x_np)\n",
    "end_time = datetime.now()\n",
    "print(f\"Compiled model inference time: {end_time - start_time}\")\n"
   ]
  }
 ],
 "metadata": {
  "kernelspec": {
   "display_name": "venv",
   "language": "python",
   "name": "python3"
  },
  "language_info": {
   "codemirror_mode": {
    "name": "ipython",
    "version": 3
   },
   "file_extension": ".py",
   "mimetype": "text/x-python",
   "name": "python",
   "nbconvert_exporter": "python",
   "pygments_lexer": "ipython3",
   "version": "3.12.11"
  }
 },
 "nbformat": 4,
 "nbformat_minor": 5
}
